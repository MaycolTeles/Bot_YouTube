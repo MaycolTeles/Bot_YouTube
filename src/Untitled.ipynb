{
 "cells": [
  {
   "cell_type": "markdown",
   "id": "c0f1600b",
   "metadata": {},
   "source": [
    "<H1> Professional, with Classes </H1>"
   ]
  },
  {
   "cell_type": "code",
   "execution_count": 3,
   "id": "d8691fc8",
   "metadata": {},
   "outputs": [],
   "source": [
    "import selenium"
   ]
  },
  {
   "cell_type": "markdown",
   "id": "b4eb5644",
   "metadata": {},
   "source": [
    "<H3> Gambito </H3>"
   ]
  },
  {
   "cell_type": "code",
   "execution_count": 4,
   "id": "3bf2374c",
   "metadata": {},
   "outputs": [],
   "source": [
    "from selenium import webdriver\n",
    "from selenium.webdriver.common.keys import Keys\n",
    "from webdriver_manager.chrome import ChromeDriverManager\n",
    "\n"
   ]
  },
  {
   "cell_type": "code",
   "execution_count": null,
   "id": "2f9ddb68",
   "metadata": {},
   "outputs": [],
   "source": []
  }
 ],
 "metadata": {
  "kernelspec": {
   "display_name": "Python 3",
   "language": "python",
   "name": "python3"
  },
  "language_info": {
   "codemirror_mode": {
    "name": "ipython",
    "version": 3
   },
   "file_extension": ".py",
   "mimetype": "text/x-python",
   "name": "python",
   "nbconvert_exporter": "python",
   "pygments_lexer": "ipython3",
   "version": "3.8.5"
  }
 },
 "nbformat": 4,
 "nbformat_minor": 5
}
